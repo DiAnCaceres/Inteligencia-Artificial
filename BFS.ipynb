{
  "nbformat": 4,
  "nbformat_minor": 0,
  "metadata": {
    "colab": {
      "name": "BFS.ipynb",
      "provenance": [],
      "authorship_tag": "ABX9TyNlwom9t5eZ5LQyRxHh0rsF",
      "include_colab_link": true
    },
    "kernelspec": {
      "name": "python3",
      "display_name": "Python 3"
    },
    "language_info": {
      "name": "python"
    }
  },
  "cells": [
    {
      "cell_type": "markdown",
      "metadata": {
        "id": "view-in-github",
        "colab_type": "text"
      },
      "source": [
        "<a href=\"https://colab.research.google.com/github/DiAnCaceres/Inteligencia-Artificial/blob/main/BFS.ipynb\" target=\"_parent\"><img src=\"https://colab.research.google.com/assets/colab-badge.svg\" alt=\"Open In Colab\"/></a>"
      ]
    },
    {
      "cell_type": "code",
      "source": [
        "from queue import Queue"
      ],
      "metadata": {
        "id": "-oDjawhMBnt6"
      },
      "execution_count": 1,
      "outputs": []
    },
    {
      "cell_type": "code",
      "execution_count": null,
      "metadata": {
        "id": "c3r-6EBej1zA"
      },
      "outputs": [],
      "source": [
        "#bfs code\n",
        "visited ={}\n",
        "level = {}\n",
        "parent = {}\n",
        "bfs_traversal_output =[]\n",
        "queue = Queue()\n",
        "\n",
        "for node in adj_list.keys():\n",
        "  visited[node] = False\n",
        "  parent[node] =None\n",
        "  level[node] = -1\n",
        "\n",
        "s= \"a\"\n",
        "visited[s] = True\n",
        "level[s] = 0\n",
        "queue.put.(s)\n",
        "\n",
        "while not queue.empty():\n",
        "  u = queue.get()\n",
        "  bfs_traversal_output.append(u)\n",
        "\n",
        "  for v in adj_list[u]:\n",
        "    if not visited[v]:\n",
        "      visited[v] = True\n",
        "      parent[v] = u\n",
        "      level[v] = level[u]+1\n",
        "      queue.put(v)\n"
      ]
    },
    {
      "cell_type": "code",
      "source": [
        "v = \"g\"\n",
        "path = []\n",
        "while v is not None:\n",
        "  path.append(v)\n",
        "  v = parent[v]\n",
        "path.reverse()\n",
        "print (path)"
      ],
      "metadata": {
        "id": "b1asDGSzDAKQ"
      },
      "execution_count": null,
      "outputs": []
    }
  ]
}